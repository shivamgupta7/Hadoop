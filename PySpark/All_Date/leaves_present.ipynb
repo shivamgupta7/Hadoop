{
 "cells": [
  {
   "cell_type": "markdown",
   "metadata": {},
   "source": [
    "## Import Libraries"
   ]
  },
  {
   "cell_type": "code",
   "execution_count": 1,
   "metadata": {},
   "outputs": [],
   "source": [
    "from pyspark.sql.functions import hour,minute,second,col,avg,when\n",
    "from pyspark.sql import SQLContext\n",
    "import pyspark.sql.functions as sqlFun\n",
    "import datetime\n",
    "sqlContext = SQLContext(sc)"
   ]
  },
  {
   "cell_type": "markdown",
   "metadata": {},
   "source": [
    "## Read csv file from hdfs server"
   ]
  },
  {
   "cell_type": "code",
   "execution_count": 4,
   "metadata": {},
   "outputs": [
    {
     "name": "stdout",
     "output_type": "stream",
     "text": [
      "+--------------------+-------------------+-------------------+-------------------+-------------------+\n",
      "|           user_name|         start_time|           end_time|          idle_time|       working_hour|\n",
      "+--------------------+-------------------+-------------------+-------------------+-------------------+\n",
      "|ashutoshrit64@gma...|2019-10-21 08:50:01|2019-10-21 19:25:02|2019-10-21 00:30:00|2019-10-21 10:05:01|\n",
      "|giridhardandikwar...|2019-10-21 15:50:01|2019-10-21 18:05:02|2019-10-21 00:00:00|2019-10-21 02:15:01|\n",
      "|priyankagorte95@g...|2019-10-21 10:40:01|2019-10-21 19:25:01|2019-10-21 00:45:00|2019-10-21 08:00:00|\n",
      "|salinabodale73@gm...|2019-10-21 11:25:01|2019-10-21 18:25:02|2019-10-21 01:20:00|2019-10-21 05:40:01|\n",
      "|“shivnajalisangal...|2019-10-21 10:25:01|2019-10-21 19:25:01|2019-10-21 08:55:00|2019-10-21 00:05:00|\n",
      "|Krushnanikam26@gm...|2019-10-21 11:15:02|2019-10-21 13:45:01|2019-10-21 01:35:00|2019-10-21 00:54:59|\n",
      "|gaikwadr576@gmail...|2019-10-21 09:55:01|2019-10-21 19:15:01|2019-10-21 01:05:00|2019-10-21 08:15:00|\n",
      "|adikumar2514@gmai...|2019-10-21 10:20:01|2019-10-21 19:25:01|2019-10-21 01:20:00|2019-10-21 07:45:00|\n",
      "| dileep.bs@yahoo.com|2019-10-21 10:25:02|2019-10-21 19:25:01|2019-10-21 00:35:00|2019-10-21 08:24:59|\n",
      "|puruissimple@gmai...|2019-10-21 09:20:02|2019-10-21 19:25:01|2019-10-21 01:55:00|2019-10-21 08:09:59|\n",
      "+--------------------+-------------------+-------------------+-------------------+-------------------+\n",
      "only showing top 10 rows\n",
      "\n"
     ]
    }
   ],
   "source": [
    "df_log = sqlContext.read.csv(\"hdfs:///user/spark-file/output\",header = True, inferSchema = True)\n",
    "df_log.show(10)"
   ]
  },
  {
   "cell_type": "code",
   "execution_count": 5,
   "metadata": {},
   "outputs": [
    {
     "name": "stdout",
     "output_type": "stream",
     "text": [
      "Rows :  307 Columns :  5\n"
     ]
    }
   ],
   "source": [
    "print('Rows : ',df_log.count(), 'Columns : ',len(df_log.columns))    # total no of row and column"
   ]
  },
  {
   "cell_type": "markdown",
   "metadata": {},
   "source": [
    "### Find total number of hours for each user in working hours "
   ]
  },
  {
   "cell_type": "code",
   "execution_count": 6,
   "metadata": {},
   "outputs": [
    {
     "name": "stdout",
     "output_type": "stream",
     "text": [
      "+--------------------+-------+\n",
      "|           user_name|present|\n",
      "+--------------------+-------+\n",
      "|ashutoshrit64@gma...|      4|\n",
      "|giridhardandikwar...|      3|\n",
      "|priyankagorte95@g...|      2|\n",
      "|       nikitapawar17|      3|\n",
      "|salinabodale73@gm...|      4|\n",
      "+--------------------+-------+\n",
      "only showing top 5 rows\n",
      "\n"
     ]
    }
   ],
   "source": [
    "df_present = df_log.groupBy('user_name').agg(sqlFun.count('user_name').alias('present'))\n",
    "df_present.show(5)"
   ]
  },
  {
   "cell_type": "code",
   "execution_count": 8,
   "metadata": {},
   "outputs": [
    {
     "name": "stdout",
     "output_type": "stream",
     "text": [
      "+--------------------+-------+-----+\n",
      "|           user_name|present|leave|\n",
      "+--------------------+-------+-----+\n",
      "|ashutoshrit64@gma...|      4|    0|\n",
      "|giridhardandikwar...|      3|    1|\n",
      "|priyankagorte95@g...|      2|    2|\n",
      "|       nikitapawar17|      3|    1|\n",
      "|salinabodale73@gm...|      4|    0|\n",
      "+--------------------+-------+-----+\n",
      "only showing top 5 rows\n",
      "\n"
     ]
    }
   ],
   "source": [
    "working_day = 4\n",
    "df_leave = df_present.withColumn('leave', working_day-df_present.present)\n",
    "df_leave.show(5)"
   ]
  },
  {
   "cell_type": "code",
   "execution_count": null,
   "metadata": {},
   "outputs": [],
   "source": []
  }
 ],
 "metadata": {
  "kernelspec": {
   "display_name": "Python 3",
   "language": "python",
   "name": "python3"
  },
  "language_info": {
   "codemirror_mode": {
    "name": "ipython",
    "version": 3
   },
   "file_extension": ".py",
   "mimetype": "text/x-python",
   "name": "python",
   "nbconvert_exporter": "python",
   "pygments_lexer": "ipython3",
   "version": "3.6.9"
  }
 },
 "nbformat": 4,
 "nbformat_minor": 4
}
