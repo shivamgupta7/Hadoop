{
 "cells": [
  {
   "cell_type": "markdown",
   "metadata": {},
   "source": [
    "## Import Libraries"
   ]
  },
  {
   "cell_type": "code",
   "execution_count": 9,
   "metadata": {},
   "outputs": [],
   "source": [
    "from pyspark.sql.functions import hour,minute,second,col,avg,when\n",
    "from pyspark.sql import SQLContext\n",
    "import pyspark.sql.functions as sqlFun\n",
    "import datetime\n",
    "from filterAllData import *\n",
    "sqlContext = SQLContext(sc)"
   ]
  },
  {
   "cell_type": "markdown",
   "metadata": {},
   "source": [
    "## Read csv file from hdfs server"
   ]
  },
  {
   "cell_type": "code",
   "execution_count": 12,
   "metadata": {},
   "outputs": [
    {
     "name": "stdout",
     "output_type": "stream",
     "text": [
      "+--------------------+-------------------+-------------------+-------------------+-------------------+\n",
      "|           user_name|         start_time|           end_time|          idle_time|       working_hour|\n",
      "+--------------------+-------------------+-------------------+-------------------+-------------------+\n",
      "|ashutoshrit64@gma...|2019-10-21 08:50:01|2019-10-21 19:25:02|2019-10-21 00:30:00|2019-10-21 10:05:01|\n",
      "|giridhardandikwar...|2019-10-21 15:50:01|2019-10-21 18:05:02|2019-10-21 00:00:00|2019-10-21 02:15:01|\n",
      "|priyankagorte95@g...|2019-10-21 10:40:01|2019-10-21 19:25:01|2019-10-21 00:45:00|2019-10-21 08:00:00|\n",
      "|salinabodale73@gm...|2019-10-21 11:25:01|2019-10-21 18:25:02|2019-10-21 01:20:00|2019-10-21 05:40:01|\n",
      "|“shivnajalisangal...|2019-10-21 10:25:01|2019-10-21 19:25:01|2019-10-21 08:55:00|2019-10-21 00:05:00|\n",
      "|Krushnanikam26@gm...|2019-10-21 11:15:02|2019-10-21 13:45:01|2019-10-21 01:35:00|2019-10-21 00:54:59|\n",
      "|gaikwadr576@gmail...|2019-10-21 09:55:01|2019-10-21 19:15:01|2019-10-21 01:05:00|2019-10-21 08:15:00|\n",
      "|adikumar2514@gmai...|2019-10-21 10:20:01|2019-10-21 19:25:01|2019-10-21 01:20:00|2019-10-21 07:45:00|\n",
      "| dileep.bs@yahoo.com|2019-10-21 10:25:02|2019-10-21 19:25:01|2019-10-21 00:35:00|2019-10-21 08:24:59|\n",
      "|puruissimple@gmai...|2019-10-21 09:20:02|2019-10-21 19:25:01|2019-10-21 01:55:00|2019-10-21 08:09:59|\n",
      "+--------------------+-------------------+-------------------+-------------------+-------------------+\n",
      "only showing top 10 rows\n",
      "\n"
     ]
    }
   ],
   "source": [
    "df_log = sqlContext.read.csv(\"hdfs:///user/spark-file/output\",header = True, inferSchema = True)\n",
    "df_log.show(10)"
   ]
  },
  {
   "cell_type": "code",
   "execution_count": 13,
   "metadata": {},
   "outputs": [
    {
     "name": "stdout",
     "output_type": "stream",
     "text": [
      "Rows :  307 Columns :  5\n"
     ]
    }
   ],
   "source": [
    "print('Rows : ',df_log.count(), 'Columns : ',len(df_log.columns))    # total no of row and column"
   ]
  },
  {
   "cell_type": "markdown",
   "metadata": {},
   "source": [
    "### Find total number of hours for each user in working hours "
   ]
  },
  {
   "cell_type": "code",
   "execution_count": 15,
   "metadata": {},
   "outputs": [],
   "source": [
    "df_work = df_log.drop('idle_time', 'start_time', 'end_time')"
   ]
  },
  {
   "cell_type": "code",
   "execution_count": 16,
   "metadata": {},
   "outputs": [
    {
     "name": "stdout",
     "output_type": "stream",
     "text": [
      "+---------------------------+--------+\n",
      "|                  user_name|avg_time|\n",
      "+---------------------------+--------+\n",
      "|    ashutoshrit64@gmail.com|08:56:15|\n",
      "|giridhardandikwar@gmail.com|12:30:00|\n",
      "|  priyankagorte95@gmail.com|05:10:00|\n",
      "|              nikitapawar17|02:20:00|\n",
      "|   salinabodale73@gmail.com|04:56:15|\n",
      "+---------------------------+--------+\n",
      "only showing top 5 rows\n",
      "\n"
     ]
    }
   ],
   "source": [
    "df_avg = df_work.groupBy('user_name').agg(sqlFun.from_unixtime(sqlFun.avg(sqlFun.unix_timestamp('working_hour')),'hh:mm:ss').alias('avg_time'))\n",
    "df_avg.show(5,truncate=50)"
   ]
  },
  {
   "cell_type": "code",
   "execution_count": 17,
   "metadata": {},
   "outputs": [
    {
     "name": "stdout",
     "output_type": "stream",
     "text": [
      "+---------------------------+--------+------------------+\n",
      "|                  user_name|avg_time|          avg_hour|\n",
      "+---------------------------+--------+------------------+\n",
      "|    ashutoshrit64@gmail.com|08:56:15|            8.9375|\n",
      "|giridhardandikwar@gmail.com|12:30:00|              12.5|\n",
      "|  priyankagorte95@gmail.com|05:10:00| 5.166666666666667|\n",
      "|              nikitapawar17|02:20:00|2.3333333333333335|\n",
      "|   salinabodale73@gmail.com|04:56:15|            4.9375|\n",
      "+---------------------------+--------+------------------+\n",
      "only showing top 5 rows\n",
      "\n"
     ]
    }
   ],
   "source": [
    "df_avg_hours = df_avg.withColumn('avg_hour', (hour(df_avg['avg_time'])*3600 + minute(df_avg['avg_time'])*60 + second(df_avg['avg_time']))/3600)\n",
    "df_avg_hours.show(5,truncate=50)"
   ]
  },
  {
   "cell_type": "code",
   "execution_count": 19,
   "metadata": {},
   "outputs": [
    {
     "data": {
      "text/plain": [
       "6.318108187134503"
      ]
     },
     "execution_count": 19,
     "metadata": {},
     "output_type": "execute_result"
    }
   ],
   "source": [
    "#calculating average hours\n",
    "total_avg_work_hour = df_avg_hours.select(avg('avg_hour')).collect()[0][0]\n",
    "total_avg_work_hour"
   ]
  },
  {
   "cell_type": "code",
   "execution_count": 20,
   "metadata": {},
   "outputs": [
    {
     "data": {
      "text/plain": [
       "48"
      ]
     },
     "execution_count": 20,
     "metadata": {},
     "output_type": "execute_result"
    }
   ],
   "source": [
    "avg_count = df_avg_hours.filter(sqlFun.col(\"avg_hour\") > total_avg_work_hour)\n",
    "avg_count.count()"
   ]
  },
  {
   "cell_type": "code",
   "execution_count": 21,
   "metadata": {},
   "outputs": [
    {
     "name": "stdout",
     "output_type": "stream",
     "text": [
      "+--------------------------------+\n",
      "|                       user_name|\n",
      "+--------------------------------+\n",
      "|         ashutoshrit64@gmail.com|\n",
      "|     giridhardandikwar@gmail.com|\n",
      "|“shivnajalisangale5456@gmail.com|\n",
      "|     indrajeetgajbhiye@gmail.com|\n",
      "|      khairnarswapna99@gmail.com|\n",
      "+--------------------------------+\n",
      "only showing top 5 rows\n",
      "\n"
     ]
    }
   ],
   "source": [
    "df_avg_hours.filter(df_avg_hours['avg_hour'] > total_avg_work_hour).select('user_name').show(5,truncate=50)"
   ]
  },
  {
   "cell_type": "code",
   "execution_count": null,
   "metadata": {},
   "outputs": [],
   "source": []
  }
 ],
 "metadata": {
  "kernelspec": {
   "display_name": "Python 3",
   "language": "python",
   "name": "python3"
  },
  "language_info": {
   "codemirror_mode": {
    "name": "ipython",
    "version": 3
   },
   "file_extension": ".py",
   "mimetype": "text/x-python",
   "name": "python",
   "nbconvert_exporter": "python",
   "pygments_lexer": "ipython3",
   "version": "3.6.9"
  }
 },
 "nbformat": 4,
 "nbformat_minor": 4
}
