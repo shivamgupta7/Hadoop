{
 "cells": [
  {
   "cell_type": "markdown",
   "metadata": {},
   "source": [
    "## Import Libraries"
   ]
  },
  {
   "cell_type": "code",
   "execution_count": 1,
   "metadata": {},
   "outputs": [],
   "source": [
    "from pyspark.sql.functions import hour,minute,second,col,avg,when\n",
    "from pyspark.sql import SQLContext\n",
    "import pyspark.sql.functions as sqlFun\n",
    "import datetime\n",
    "sqlContext = SQLContext(sc)"
   ]
  },
  {
   "cell_type": "markdown",
   "metadata": {},
   "source": [
    "## Read csv file from hdfs server"
   ]
  },
  {
   "cell_type": "code",
   "execution_count": 2,
   "metadata": {},
   "outputs": [
    {
     "name": "stdout",
     "output_type": "stream",
     "text": [
      "+--------------------+-------------------+-------------------+-------------------+-------------------+\n",
      "|           user_name|         start_time|           end_time|          idle_time|       working_hour|\n",
      "+--------------------+-------------------+-------------------+-------------------+-------------------+\n",
      "|prathameshsalap@g...|2019-10-21 08:35:01|2019-10-21 19:25:02|2019-10-21 01:50:00|2019-10-21 09:00:01|\n",
      "|vaishusawant143@g...|2019-10-21 08:35:01|2019-10-21 19:25:02|2019-10-21 01:35:00|2019-10-21 09:15:01|\n",
      "|     you@example.com|2019-10-21 08:35:01|2019-10-21 19:25:01|2019-10-21 01:55:00|2019-10-21 08:55:00|\n",
      "|  shelkeva@gmail.com|2019-10-21 08:50:02|2019-10-21 19:25:02|2019-10-21 01:00:00|2019-10-21 09:35:00|\n",
      "|ashutoshrit64@gma...|2019-10-21 08:50:01|2019-10-21 19:25:02|2019-10-21 00:30:00|2019-10-21 10:05:01|\n",
      "|akshaypatwari24@g...|2019-10-21 09:00:01|2019-10-21 19:15:01|2019-10-21 01:30:00|2019-10-21 08:45:00|\n",
      "|sushantpatwari123...|2019-10-21 09:05:01|2019-10-21 19:00:01|2019-10-21 01:50:00|2019-10-21 08:05:00|\n",
      "|mr.kundare@gmail.com|2019-10-21 09:05:01|2019-10-21 19:25:01|2019-10-21 10:15:00|2019-10-21 00:05:00|\n",
      "| ingle0608@gmail.com|2019-10-21 09:00:02|2019-10-21 19:25:01|2019-10-21 10:15:00|2019-10-21 00:09:59|\n",
      "|akshaybavalekar10...|2019-10-21 09:10:01|2019-10-21 19:25:01|2019-10-21 01:30:00|2019-10-21 08:45:00|\n",
      "+--------------------+-------------------+-------------------+-------------------+-------------------+\n",
      "only showing top 10 rows\n",
      "\n"
     ]
    }
   ],
   "source": [
    "df_log = sqlContext.read.csv(\"hdfs:///user/spark-file/output/all\",header = True, inferSchema = True)\n",
    "df_log.show(10)"
   ]
  },
  {
   "cell_type": "code",
   "execution_count": 3,
   "metadata": {},
   "outputs": [
    {
     "name": "stdout",
     "output_type": "stream",
     "text": [
      "Rows :  307 Columns :  5\n"
     ]
    }
   ],
   "source": [
    "print('Rows : ',df_log.count(), 'Columns : ',len(df_log.columns))    # total no of row and column"
   ]
  },
  {
   "cell_type": "markdown",
   "metadata": {},
   "source": [
    "### Find total number of hours for each user in idle hours "
   ]
  },
  {
   "cell_type": "code",
   "execution_count": 4,
   "metadata": {},
   "outputs": [],
   "source": [
    "df_idle = df_log.drop('working_hour', 'start_time', 'end_time')"
   ]
  },
  {
   "cell_type": "code",
   "execution_count": 7,
   "metadata": {},
   "outputs": [
    {
     "name": "stdout",
     "output_type": "stream",
     "text": [
      "+---------------------------+--------+\n",
      "|                  user_name|avg_time|\n",
      "+---------------------------+--------+\n",
      "|    ashutoshrit64@gmail.com|01:11:15|\n",
      "|giridhardandikwar@gmail.com|08:48:20|\n",
      "|  priyankagorte95@gmail.com|12:22:30|\n",
      "|              nikitapawar17|03:03:20|\n",
      "|   salinabodale73@gmail.com|02:20:00|\n",
      "+---------------------------+--------+\n",
      "only showing top 5 rows\n",
      "\n"
     ]
    }
   ],
   "source": [
    "df_avg = df_idle.groupBy('user_name').agg(sqlFun.from_unixtime(sqlFun.avg(sqlFun.unix_timestamp('idle_time')),'hh:mm:ss').alias('avg_time'))\n",
    "df_avg.show(5,truncate=50)"
   ]
  },
  {
   "cell_type": "code",
   "execution_count": 8,
   "metadata": {},
   "outputs": [
    {
     "name": "stdout",
     "output_type": "stream",
     "text": [
      "+---------------------------+--------+------------------+\n",
      "|                  user_name|avg_time|          avg_hour|\n",
      "+---------------------------+--------+------------------+\n",
      "|    ashutoshrit64@gmail.com|01:11:15|            1.1875|\n",
      "|giridhardandikwar@gmail.com|08:48:20| 8.805555555555555|\n",
      "|  priyankagorte95@gmail.com|12:22:30|            12.375|\n",
      "|              nikitapawar17|03:03:20|3.0555555555555554|\n",
      "|   salinabodale73@gmail.com|02:20:00|2.3333333333333335|\n",
      "+---------------------------+--------+------------------+\n",
      "only showing top 5 rows\n",
      "\n"
     ]
    }
   ],
   "source": [
    "df_avg_hours = df_avg.withColumn('avg_hour', (hour(df_avg['avg_time'])*3600 + minute(df_avg['avg_time'])*60 + second(df_avg['avg_time']))/3600)\n",
    "df_avg_hours.show(5,truncate=50)"
   ]
  },
  {
   "cell_type": "code",
   "execution_count": 9,
   "metadata": {},
   "outputs": [
    {
     "name": "stdout",
     "output_type": "stream",
     "text": [
      "+-----------------+\n",
      "|    avg(avg_hour)|\n",
      "+-----------------+\n",
      "|5.535307017543859|\n",
      "+-----------------+\n",
      "\n"
     ]
    }
   ],
   "source": [
    "#calculating average hours\n",
    "total_avg_work_hour = df_avg_hours.select(avg('avg_hour'))\n",
    "total_avg_work_hour.show()"
   ]
  },
  {
   "cell_type": "code",
   "execution_count": 10,
   "metadata": {},
   "outputs": [
    {
     "data": {
      "text/plain": [
       "34"
      ]
     },
     "execution_count": 10,
     "metadata": {},
     "output_type": "execute_result"
    }
   ],
   "source": [
    "avg_count = df_avg_hours.filter(sqlFun.col(\"avg_hour\") > 5.535307017543859)\n",
    "avg_count.count()"
   ]
  },
  {
   "cell_type": "code",
   "execution_count": 11,
   "metadata": {},
   "outputs": [
    {
     "name": "stdout",
     "output_type": "stream",
     "text": [
      "+--------------------------------+\n",
      "|                       user_name|\n",
      "+--------------------------------+\n",
      "|     giridhardandikwar@gmail.com|\n",
      "|       priyankagorte95@gmail.com|\n",
      "|    mail2anik.official@gmail.com|\n",
      "|“shivnajalisangale5456@gmail.com|\n",
      "|    samruddhichitnis02@gmail.com|\n",
      "+--------------------------------+\n",
      "only showing top 5 rows\n",
      "\n"
     ]
    }
   ],
   "source": [
    "df_avg_hours.filter(df_avg_hours['avg_hour'] > 5.535307017543859).select('user_name').show(5,truncate=50)"
   ]
  },
  {
   "cell_type": "code",
   "execution_count": null,
   "metadata": {},
   "outputs": [],
   "source": []
  }
 ],
 "metadata": {
  "kernelspec": {
   "display_name": "Python 3",
   "language": "python",
   "name": "python3"
  },
  "language_info": {
   "codemirror_mode": {
    "name": "ipython",
    "version": 3
   },
   "file_extension": ".py",
   "mimetype": "text/x-python",
   "name": "python",
   "nbconvert_exporter": "python",
   "pygments_lexer": "ipython3",
   "version": "3.6.9"
  }
 },
 "nbformat": 4,
 "nbformat_minor": 4
}
