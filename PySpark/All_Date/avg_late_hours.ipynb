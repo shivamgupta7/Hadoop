{
 "cells": [
  {
   "cell_type": "markdown",
   "metadata": {},
   "source": [
    "## Import Libraries"
   ]
  },
  {
   "cell_type": "code",
   "execution_count": 1,
   "metadata": {},
   "outputs": [],
   "source": [
    "from pyspark.sql.functions import hour,minute,second,col,avg,when\n",
    "from pyspark.sql import SQLContext\n",
    "import pyspark.sql.functions as sqlFun\n",
    "import datetime\n",
    "sqlContext = SQLContext(sc)"
   ]
  },
  {
   "cell_type": "markdown",
   "metadata": {},
   "source": [
    "## Read csv file from hdfs server"
   ]
  },
  {
   "cell_type": "code",
   "execution_count": 2,
   "metadata": {},
   "outputs": [
    {
     "name": "stdout",
     "output_type": "stream",
     "text": [
      "+--------------------+-------------------+-------------------+-------------------+-------------------+\n",
      "|           user_name|         start_time|           end_time|          idle_time|       working_hour|\n",
      "+--------------------+-------------------+-------------------+-------------------+-------------------+\n",
      "|prathameshsalap@g...|2019-10-21 08:35:01|2019-10-21 19:25:02|2019-10-21 01:50:00|2019-10-21 09:00:01|\n",
      "|vaishusawant143@g...|2019-10-21 08:35:01|2019-10-21 19:25:02|2019-10-21 01:35:00|2019-10-21 09:15:01|\n",
      "|     you@example.com|2019-10-21 08:35:01|2019-10-21 19:25:01|2019-10-21 01:55:00|2019-10-21 08:55:00|\n",
      "|  shelkeva@gmail.com|2019-10-21 08:50:02|2019-10-21 19:25:02|2019-10-21 01:00:00|2019-10-21 09:35:00|\n",
      "|ashutoshrit64@gma...|2019-10-21 08:50:01|2019-10-21 19:25:02|2019-10-21 00:30:00|2019-10-21 10:05:01|\n",
      "|akshaypatwari24@g...|2019-10-21 09:00:01|2019-10-21 19:15:01|2019-10-21 01:30:00|2019-10-21 08:45:00|\n",
      "|sushantpatwari123...|2019-10-21 09:05:01|2019-10-21 19:00:01|2019-10-21 01:50:00|2019-10-21 08:05:00|\n",
      "|mr.kundare@gmail.com|2019-10-21 09:05:01|2019-10-21 19:25:01|2019-10-21 10:15:00|2019-10-21 00:05:00|\n",
      "| ingle0608@gmail.com|2019-10-21 09:00:02|2019-10-21 19:25:01|2019-10-21 10:15:00|2019-10-21 00:09:59|\n",
      "|akshaybavalekar10...|2019-10-21 09:10:01|2019-10-21 19:25:01|2019-10-21 01:30:00|2019-10-21 08:45:00|\n",
      "+--------------------+-------------------+-------------------+-------------------+-------------------+\n",
      "only showing top 10 rows\n",
      "\n"
     ]
    }
   ],
   "source": [
    "df_log = sqlContext.read.csv(\"hdfs:///user/spark-file/output/all\",header = True, inferSchema = True)\n",
    "df_log.show(10)"
   ]
  },
  {
   "cell_type": "code",
   "execution_count": 3,
   "metadata": {},
   "outputs": [
    {
     "name": "stdout",
     "output_type": "stream",
     "text": [
      "Rows :  307 Columns :  5\n"
     ]
    }
   ],
   "source": [
    "print('Rows : ',df_log.count(), 'Columns : ',len(df_log.columns))    # total no of row and column"
   ]
  },
  {
   "cell_type": "code",
   "execution_count": 12,
   "metadata": {},
   "outputs": [],
   "source": [
    "df_log = df_log.drop('working_hour', 'idle_time', 'end_time')"
   ]
  },
  {
   "cell_type": "code",
   "execution_count": 13,
   "metadata": {},
   "outputs": [
    {
     "name": "stdout",
     "output_type": "stream",
     "text": [
      "+--------------------+----------+\n",
      "|           user_name|start_time|\n",
      "+--------------------+----------+\n",
      "|prathameshsalap@g...|  08:35:01|\n",
      "|vaishusawant143@g...|  08:35:01|\n",
      "|     you@example.com|  08:35:01|\n",
      "|  shelkeva@gmail.com|  08:50:02|\n",
      "|ashutoshrit64@gma...|  08:50:01|\n",
      "+--------------------+----------+\n",
      "only showing top 5 rows\n",
      "\n"
     ]
    }
   ],
   "source": [
    "df_start = df_log.withColumn('start_time', sqlFun.from_unixtime(sqlFun.unix_timestamp(df_log.start_time),'hh:mm:ss'))\n",
    "df_start.show(5)"
   ]
  },
  {
   "cell_type": "code",
   "execution_count": 14,
   "metadata": {},
   "outputs": [
    {
     "name": "stdout",
     "output_type": "stream",
     "text": [
      "+--------------------+----------+\n",
      "|           user_name|start_time|\n",
      "+--------------------+----------+\n",
      "|vaibhavkhadke@gma...|  10:00:01|\n",
      "|vijaykumarbhavanu...|  10:00:01|\n",
      "|priyankagandhi250...|  10:00:02|\n",
      "|aheteshams007@gma...|  10:00:01|\n",
      "|hakepratiksha55@g...|  10:15:01|\n",
      "+--------------------+----------+\n",
      "only showing top 5 rows\n",
      "\n"
     ]
    }
   ],
   "source": [
    "late_commers = df_start.filter(sqlFun.col('start_time') > '10:00:00')\n",
    "late_commers.show(5)"
   ]
  },
  {
   "cell_type": "code",
   "execution_count": 15,
   "metadata": {},
   "outputs": [
    {
     "name": "stdout",
     "output_type": "stream",
     "text": [
      "+----------------------------+----------+------------------+\n",
      "|                   user_name|start_time|          avg_hour|\n",
      "+----------------------------+----------+------------------+\n",
      "|     vaibhavkhadke@gmail.com|  10:00:01|10.000277777777777|\n",
      "|      vijaykumarbhavanur.com|  10:00:01|10.000277777777777|\n",
      "|priyankagandhi2504@gmail.com|  10:00:02|10.000555555555556|\n",
      "|     aheteshams007@gmail.com|  10:00:01|10.000277777777777|\n",
      "|   hakepratiksha55@gmail.com|  10:15:01|10.250277777777777|\n",
      "+----------------------------+----------+------------------+\n",
      "only showing top 5 rows\n",
      "\n"
     ]
    }
   ],
   "source": [
    "df_avg_hours = late_commers.withColumn('avg_hour', (hour(late_commers['start_time'])*3600 + minute(late_commers['start_time'])*60 + second(late_commers['start_time']))/3600)\n",
    "df_avg_hours.show(5,truncate=50)"
   ]
  },
  {
   "cell_type": "code",
   "execution_count": 16,
   "metadata": {},
   "outputs": [
    {
     "name": "stdout",
     "output_type": "stream",
     "text": [
      "+------------------+\n",
      "|     avg(avg_hour)|\n",
      "+------------------+\n",
      "|10.699375687568766|\n",
      "+------------------+\n",
      "\n"
     ]
    }
   ],
   "source": [
    "#calculating average hours\n",
    "total_avg_late_hour = df_avg_hours.select(avg('avg_hour'))\n",
    "total_avg_late_hour.show()"
   ]
  },
  {
   "cell_type": "code",
   "execution_count": 17,
   "metadata": {},
   "outputs": [
    {
     "data": {
      "text/plain": [
       "29"
      ]
     },
     "execution_count": 17,
     "metadata": {},
     "output_type": "execute_result"
    }
   ],
   "source": [
    "avg_count = df_avg_hours.filter(sqlFun.col(\"avg_hour\") > 10.699375687568766)\n",
    "avg_count.count()"
   ]
  },
  {
   "cell_type": "code",
   "execution_count": 18,
   "metadata": {},
   "outputs": [
    {
     "name": "stdout",
     "output_type": "stream",
     "text": [
      "+-------------------------+\n",
      "|                user_name|\n",
      "+-------------------------+\n",
      "|nitishtech.info@gmail.com|\n",
      "|      grmule018@gmail.com|\n",
      "|  venkatesh.er2@gmail.com|\n",
      "| salinabodale73@gmail.com|\n",
      "|  polelaxman001@gmail.com|\n",
      "+-------------------------+\n",
      "only showing top 5 rows\n",
      "\n"
     ]
    }
   ],
   "source": [
    "df_avg_hours.filter(df_avg_hours['avg_hour'] > 10.699375687568766).select('user_name').show(5,truncate=50)"
   ]
  },
  {
   "cell_type": "code",
   "execution_count": null,
   "metadata": {},
   "outputs": [],
   "source": []
  }
 ],
 "metadata": {
  "kernelspec": {
   "display_name": "Python 3",
   "language": "python",
   "name": "python3"
  },
  "language_info": {
   "codemirror_mode": {
    "name": "ipython",
    "version": 3
   },
   "file_extension": ".py",
   "mimetype": "text/x-python",
   "name": "python",
   "nbconvert_exporter": "python",
   "pygments_lexer": "ipython3",
   "version": "3.6.9"
  }
 },
 "nbformat": 4,
 "nbformat_minor": 4
}
