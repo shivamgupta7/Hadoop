{
 "cells": [
  {
   "cell_type": "markdown",
   "metadata": {},
   "source": [
    "## Import Libraries"
   ]
  },
  {
   "cell_type": "code",
   "execution_count": 1,
   "metadata": {},
   "outputs": [],
   "source": [
    "import pyspark.sql.functions as sql_functions\n",
    "from pyspark.sql import SQLContext\n",
    "import datetime\n",
    "sqlContext = SQLContext(sc)"
   ]
  },
  {
   "cell_type": "code",
   "execution_count": 3,
   "metadata": {},
   "outputs": [
    {
     "name": "stdout",
     "output_type": "stream",
     "text": [
      "+--------------------+-------------------+-------------------+-------------------+-------------------+\n",
      "|           user_name|         start_time|           end_time|          idle_time|       working_hour|\n",
      "+--------------------+-------------------+-------------------+-------------------+-------------------+\n",
      "|ashutoshrit64@gma...|2019-10-21 08:50:01|2019-10-21 19:25:02|2019-10-21 00:30:00|2019-10-21 10:05:01|\n",
      "|giridhardandikwar...|2019-10-21 15:50:01|2019-10-21 18:05:02|2019-10-21 00:00:00|2019-10-21 02:15:01|\n",
      "|priyankagorte95@g...|2019-10-21 10:40:01|2019-10-21 19:25:01|2019-10-21 00:45:00|2019-10-21 08:00:00|\n",
      "|salinabodale73@gm...|2019-10-21 11:25:01|2019-10-21 18:25:02|2019-10-21 01:20:00|2019-10-21 05:40:01|\n",
      "|“shivnajalisangal...|2019-10-21 10:25:01|2019-10-21 19:25:01|2019-10-21 08:55:00|2019-10-21 00:05:00|\n",
      "+--------------------+-------------------+-------------------+-------------------+-------------------+\n",
      "only showing top 5 rows\n",
      "\n"
     ]
    }
   ],
   "source": [
    "df_log = sqlContext.read.csv(\"hdfs:///user/spark-file/output\",header = True, inferSchema = True)\n",
    "df_log.show(5)"
   ]
  },
  {
   "cell_type": "code",
   "execution_count": 4,
   "metadata": {},
   "outputs": [
    {
     "data": {
      "text/plain": [
       "307"
      ]
     },
     "execution_count": 4,
     "metadata": {},
     "output_type": "execute_result"
    }
   ],
   "source": [
    "df_log.count()"
   ]
  },
  {
   "cell_type": "code",
   "execution_count": 7,
   "metadata": {},
   "outputs": [
    {
     "name": "stdout",
     "output_type": "stream",
     "text": [
      "+--------------------+----------+-------------------+-------------------+-------------------+\n",
      "|           user_name|start_time|           end_time|          idle_time|       working_hour|\n",
      "+--------------------+----------+-------------------+-------------------+-------------------+\n",
      "|ashutoshrit64@gma...|  08:50:01|2019-10-21 19:25:02|2019-10-21 00:30:00|2019-10-21 10:05:01|\n",
      "|giridhardandikwar...|  03:50:01|2019-10-21 18:05:02|2019-10-21 00:00:00|2019-10-21 02:15:01|\n",
      "|priyankagorte95@g...|  10:40:01|2019-10-21 19:25:01|2019-10-21 00:45:00|2019-10-21 08:00:00|\n",
      "|salinabodale73@gm...|  11:25:01|2019-10-21 18:25:02|2019-10-21 01:20:00|2019-10-21 05:40:01|\n",
      "|“shivnajalisangal...|  10:25:01|2019-10-21 19:25:01|2019-10-21 08:55:00|2019-10-21 00:05:00|\n",
      "+--------------------+----------+-------------------+-------------------+-------------------+\n",
      "only showing top 5 rows\n",
      "\n"
     ]
    }
   ],
   "source": [
    "df_start = df_log.withColumn('start_time', sql_functions.from_unixtime(sql_functions.unix_timestamp(df_log.start_time),'hh:mm:ss'))\n",
    "df_start.show(5)"
   ]
  },
  {
   "cell_type": "code",
   "execution_count": 29,
   "metadata": {},
   "outputs": [
    {
     "name": "stdout",
     "output_type": "stream",
     "text": [
      "+--------------------+----------+-------------------+-------------------+-------------------+\n",
      "|           user_name|start_time|           end_time|          idle_time|       working_hour|\n",
      "+--------------------+----------+-------------------+-------------------+-------------------+\n",
      "|vaibhavkhadke@gma...|  10:00:01|2019-10-21 19:25:01|2019-10-21 00:30:00|2019-10-21 08:55:00|\n",
      "|vijaykumarbhavanu...|  10:00:01|2019-10-21 19:25:01|2019-10-21 00:45:00|2019-10-21 08:40:00|\n",
      "|priyankagandhi250...|  10:00:02|2019-10-21 19:25:03|2019-10-21 00:00:00|2019-10-21 09:25:01|\n",
      "|aheteshams007@gma...|  10:00:01|2019-10-21 19:25:02|2019-10-21 09:10:00|2019-10-21 00:15:01|\n",
      "|hakepratiksha55@g...|  10:15:01|2019-10-21 19:25:01|2019-10-21 00:40:00|2019-10-21 08:30:00|\n",
      "+--------------------+----------+-------------------+-------------------+-------------------+\n",
      "only showing top 5 rows\n",
      "\n"
     ]
    }
   ],
   "source": [
    "late_commers = df_start.filter(sql_functions.col('start_time') > '10:00:00')\n",
    "late_commers.show(5)"
   ]
  },
  {
   "cell_type": "code",
   "execution_count": 27,
   "metadata": {},
   "outputs": [
    {
     "name": "stdout",
     "output_type": "stream",
     "text": [
      "+--------------------+-----+\n",
      "|           user_name|count|\n",
      "+--------------------+-----+\n",
      "|ashutoshrit64@gma...|    1|\n",
      "|giridhardandikwar...|    1|\n",
      "|priyankagorte95@g...|    2|\n",
      "|       nikitapawar17|    1|\n",
      "|salinabodale73@gm...|    3|\n",
      "|“shivnajalisangal...|    2|\n",
      "|aman.raj251@gmail...|    1|\n",
      "|Krushnanikam26@gm...|    4|\n",
      "|gaikwadr576@gmail...|    2|\n",
      "|adikumar2514@gmai...|    3|\n",
      "| dileep.bs@yahoo.com|    4|\n",
      "|prajktasraut16@gm...|    1|\n",
      "|er.mukulvij96@gma...|    2|\n",
      "|hakepratiksha55@g...|    2|\n",
      "| grmule018@gmail.com|    3|\n",
      "|vidyaramesh1428@g...|    2|\n",
      "|       abc@gmail.com|    1|\n",
      "|tekina.makin@gmai...|    1|\n",
      "| blsonalib@gmail.com|    1|\n",
      "|sharlawar77@gmail...|    1|\n",
      "+--------------------+-----+\n",
      "only showing top 20 rows\n",
      "\n"
     ]
    }
   ],
   "source": [
    "late_commers.groupBy('user_name').count().show()"
   ]
  },
  {
   "cell_type": "code",
   "execution_count": null,
   "metadata": {},
   "outputs": [],
   "source": []
  }
 ],
 "metadata": {
  "kernelspec": {
   "display_name": "Python 3",
   "language": "python",
   "name": "python3"
  },
  "language_info": {
   "codemirror_mode": {
    "name": "ipython",
    "version": 3
   },
   "file_extension": ".py",
   "mimetype": "text/x-python",
   "name": "python",
   "nbconvert_exporter": "python",
   "pygments_lexer": "ipython3",
   "version": "3.6.9"
  }
 },
 "nbformat": 4,
 "nbformat_minor": 4
}
