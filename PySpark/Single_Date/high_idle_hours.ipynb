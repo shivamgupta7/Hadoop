{
 "cells": [
  {
   "cell_type": "markdown",
   "metadata": {},
   "source": [
    "## Import Libraries"
   ]
  },
  {
   "cell_type": "code",
   "execution_count": 1,
   "metadata": {},
   "outputs": [],
   "source": [
    "from pyspark.sql.functions import hour,minute,second,col,avg,when\n",
    "from pyspark.sql import SQLContext\n",
    "import pyspark.sql.functions as sql_functions\n",
    "import datetime\n",
    "sqlContext = SQLContext(sc)"
   ]
  },
  {
   "cell_type": "markdown",
   "metadata": {},
   "source": [
    "## Read csv file from hdfs server"
   ]
  },
  {
   "cell_type": "code",
   "execution_count": 2,
   "metadata": {},
   "outputs": [
    {
     "name": "stdout",
     "output_type": "stream",
     "text": [
      "+--------------------+-------------------+-------------------+-------------------+-------------------+\n",
      "|           user_name|         start_time|           end_time|          idle_time|       working_hour|\n",
      "+--------------------+-------------------+-------------------+-------------------+-------------------+\n",
      "|  sahil24c@gmail.com|2019-10-24 08:30:02|2019-10-24 19:25:02|2019-10-24 05:05:00|2019-10-24 05:50:00|\n",
      "|magadum.iranna@gm...|2019-10-24 08:30:02|2019-10-24 19:25:01|2019-10-24 02:15:00|2019-10-24 08:39:59|\n",
      "|  yathink3@gmail.com|2019-10-24 08:30:02|2019-10-24 19:25:01|2019-10-24 01:30:00|2019-10-24 09:24:59|\n",
      "|  shelkeva@gmail.com|2019-10-24 08:45:01|2019-10-24 18:25:02|2019-10-24 00:30:00|2019-10-24 09:10:01|\n",
      "|puruissimple@gmai...|2019-10-24 08:50:02|2019-10-24 19:25:01|2019-10-24 03:15:00|2019-10-24 07:19:59|\n",
      "+--------------------+-------------------+-------------------+-------------------+-------------------+\n",
      "only showing top 5 rows\n",
      "\n"
     ]
    }
   ],
   "source": [
    "df_log = sqlContext.read.csv(\"file:///home/hadoopuser/Documents/Pyspark/data/sparklog2019-10-24\",header = True, inferSchema = True)\n",
    "df_log.show(5)"
   ]
  },
  {
   "cell_type": "code",
   "execution_count": 3,
   "metadata": {},
   "outputs": [
    {
     "name": "stdout",
     "output_type": "stream",
     "text": [
      "Rows :  88 Columns :  5\n"
     ]
    }
   ],
   "source": [
    "print('Rows : ',df_log.count(), 'Columns : ',len(df_log.columns))    # total no of row and column"
   ]
  },
  {
   "cell_type": "markdown",
   "metadata": {},
   "source": [
    "### Find total number of hours for each user in idle hour"
   ]
  },
  {
   "cell_type": "code",
   "execution_count": 5,
   "metadata": {},
   "outputs": [
    {
     "name": "stdout",
     "output_type": "stream",
     "text": [
      "+--------------------+-------------------+-----+\n",
      "|           user_name|          idle_time|hours|\n",
      "+--------------------+-------------------+-----+\n",
      "|  sahil24c@gmail.com|2019-10-24 05:05:00|    5|\n",
      "|magadum.iranna@gm...|2019-10-24 02:15:00|    2|\n",
      "+--------------------+-------------------+-----+\n",
      "only showing top 2 rows\n",
      "\n"
     ]
    }
   ],
   "source": [
    "df_idle_hours = df_log.select('user_name', 'idle_time')\n",
    "df_hours = df_idle_hours.withColumn('hours', hour(df_log['idle_time']))\n",
    "df_hours.show(2)"
   ]
  },
  {
   "cell_type": "code",
   "execution_count": 6,
   "metadata": {},
   "outputs": [
    {
     "name": "stdout",
     "output_type": "stream",
     "text": [
      "+--------------------+-------------------+-----+-----------+\n",
      "|           user_name|          idle_time|hours|hours_inSec|\n",
      "+--------------------+-------------------+-----+-----------+\n",
      "|  sahil24c@gmail.com|2019-10-24 05:05:00|    5|      18000|\n",
      "|magadum.iranna@gm...|2019-10-24 02:15:00|    2|       7200|\n",
      "+--------------------+-------------------+-----+-----------+\n",
      "only showing top 2 rows\n",
      "\n"
     ]
    }
   ],
   "source": [
    "df_hours = df_hours.withColumn('hours_inSec', df_hours['hours'] * 3600)\n",
    "df_hours.show(2)"
   ]
  },
  {
   "cell_type": "markdown",
   "metadata": {},
   "source": [
    "### Find total number of mins for each user in idle hour"
   ]
  },
  {
   "cell_type": "code",
   "execution_count": 7,
   "metadata": {},
   "outputs": [
    {
     "name": "stdout",
     "output_type": "stream",
     "text": [
      "+--------------------+-------------------+-------+\n",
      "|           user_name|          idle_time|minutes|\n",
      "+--------------------+-------------------+-------+\n",
      "|  sahil24c@gmail.com|2019-10-24 05:05:00|      5|\n",
      "|magadum.iranna@gm...|2019-10-24 02:15:00|     15|\n",
      "+--------------------+-------------------+-------+\n",
      "only showing top 2 rows\n",
      "\n"
     ]
    }
   ],
   "source": [
    "df_mins = df_idle_hours.withColumn('minutes', minute(df_idle_hours['idle_time']))\n",
    "df_mins.show(2)"
   ]
  },
  {
   "cell_type": "code",
   "execution_count": 8,
   "metadata": {},
   "outputs": [
    {
     "name": "stdout",
     "output_type": "stream",
     "text": [
      "+--------------------+-------------------+-------+----------+\n",
      "|           user_name|          idle_time|minutes|mins_inSec|\n",
      "+--------------------+-------------------+-------+----------+\n",
      "|  sahil24c@gmail.com|2019-10-24 05:05:00|      5|       300|\n",
      "|magadum.iranna@gm...|2019-10-24 02:15:00|     15|       900|\n",
      "+--------------------+-------------------+-------+----------+\n",
      "only showing top 2 rows\n",
      "\n"
     ]
    }
   ],
   "source": [
    "df_mins = df_mins.withColumn('mins_inSec', df_mins['minutes'] * 60)\n",
    "df_mins.show(2)"
   ]
  },
  {
   "cell_type": "markdown",
   "metadata": {},
   "source": [
    "### Joining all data frame in one"
   ]
  },
  {
   "cell_type": "code",
   "execution_count": 9,
   "metadata": {},
   "outputs": [
    {
     "name": "stdout",
     "output_type": "stream",
     "text": [
      "+--------------------+-----------+----------+\n",
      "|           user_name|hours_inSec|mins_inSec|\n",
      "+--------------------+-----------+----------+\n",
      "|  sahil24c@gmail.com|      18000|       300|\n",
      "|magadum.iranna@gm...|       7200|       900|\n",
      "+--------------------+-----------+----------+\n",
      "only showing top 2 rows\n",
      "\n"
     ]
    }
   ],
   "source": [
    "##Joining the dataframes\n",
    "df_hours_min = df_hours.join(df_mins, on = ['user_name'], how = 'inner')\n",
    "df_hours_min = df_hours_min.drop('idle_time','hours','minutes')\n",
    "df_hours_min.show(2)"
   ]
  },
  {
   "cell_type": "code",
   "execution_count": 10,
   "metadata": {},
   "outputs": [
    {
     "name": "stdout",
     "output_type": "stream",
     "text": [
      "+--------------------+-----------+----------+-----------------+\n",
      "|           user_name|hours_inSec|mins_inSec|       idle_hours|\n",
      "+--------------------+-----------+----------+-----------------+\n",
      "|  sahil24c@gmail.com|      18000|       300|5.083333333333333|\n",
      "|magadum.iranna@gm...|       7200|       900|             2.25|\n",
      "+--------------------+-----------+----------+-----------------+\n",
      "only showing top 2 rows\n",
      "\n"
     ]
    }
   ],
   "source": [
    "df_final = df_hours_min.withColumn('idle_hours', (df_hours_min['hours_inSec'] + df_hours_min['mins_inSec'])/3600)\n",
    "df_final.show(2)"
   ]
  },
  {
   "cell_type": "markdown",
   "metadata": {},
   "source": [
    "### Calculate average idle hours"
   ]
  },
  {
   "cell_type": "code",
   "execution_count": 11,
   "metadata": {},
   "outputs": [
    {
     "name": "stdout",
     "output_type": "stream",
     "text": [
      "+------------------+\n",
      "|   avg(idle_hours)|\n",
      "+------------------+\n",
      "|2.0369318181818183|\n",
      "+------------------+\n",
      "\n"
     ]
    }
   ],
   "source": [
    "#calculating average hours\n",
    "avg_work_hour = df_final.select(avg('idle_hours'))\n",
    "avg_work_hour.show()"
   ]
  },
  {
   "cell_type": "code",
   "execution_count": 12,
   "metadata": {},
   "outputs": [
    {
     "data": {
      "text/plain": [
       "27"
      ]
     },
     "execution_count": 12,
     "metadata": {},
     "output_type": "execute_result"
    }
   ],
   "source": [
    "avg_count = df_final.filter(sql_functions.col(\"idle_hours\") > 2.03693)\n",
    "avg_count.count()"
   ]
  },
  {
   "cell_type": "code",
   "execution_count": 16,
   "metadata": {},
   "outputs": [
    {
     "name": "stdout",
     "output_type": "stream",
     "text": [
      "+--------------------+\n",
      "|           user_name|\n",
      "+--------------------+\n",
      "|  sahil24c@gmail.com|\n",
      "|magadum.iranna@gm...|\n",
      "|puruissimple@gmai...|\n",
      "|     you@example.com|\n",
      "|vishnu23kumar@gma...|\n",
      "+--------------------+\n",
      "only showing top 5 rows\n",
      "\n"
     ]
    }
   ],
   "source": [
    "df_final.filter(df_final['idle_hours'] > 2.03693).select('user_name').show(5)"
   ]
  },
  {
   "cell_type": "code",
   "execution_count": null,
   "metadata": {},
   "outputs": [],
   "source": []
  }
 ],
 "metadata": {
  "kernelspec": {
   "display_name": "Python 3",
   "language": "python",
   "name": "python3"
  },
  "language_info": {
   "codemirror_mode": {
    "name": "ipython",
    "version": 3
   },
   "file_extension": ".py",
   "mimetype": "text/x-python",
   "name": "python",
   "nbconvert_exporter": "python",
   "pygments_lexer": "ipython3",
   "version": "3.6.9"
  }
 },
 "nbformat": 4,
 "nbformat_minor": 4
}