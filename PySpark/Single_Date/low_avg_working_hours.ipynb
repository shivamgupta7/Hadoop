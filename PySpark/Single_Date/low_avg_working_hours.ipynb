{
 "cells": [
  {
   "cell_type": "markdown",
   "metadata": {},
   "source": [
    "## Import Libraries"
   ]
  },
  {
   "cell_type": "code",
   "execution_count": 1,
   "metadata": {},
   "outputs": [],
   "source": [
    "from pyspark.sql.functions import hour,minute,second,col,avg,when\n",
    "from pyspark.sql import SQLContext\n",
    "import pyspark.sql.functions as sql_functions\n",
    "import datetime\n",
    "sqlContext = SQLContext(sc)"
   ]
  },
  {
   "cell_type": "markdown",
   "metadata": {},
   "source": [
    "## Read csv file from hdfs server"
   ]
  },
  {
   "cell_type": "code",
   "execution_count": 2,
   "metadata": {},
   "outputs": [
    {
     "name": "stdout",
     "output_type": "stream",
     "text": [
      "+--------------------+-------------------+-------------------+-------------------+-------------------+\n",
      "|           user_name|         start_time|           end_time|          idle_time|       working_hour|\n",
      "+--------------------+-------------------+-------------------+-------------------+-------------------+\n",
      "|  sahil24c@gmail.com|2019-10-24 08:30:02|2019-10-24 19:25:02|2019-10-24 05:05:00|2019-10-24 05:50:00|\n",
      "|magadum.iranna@gm...|2019-10-24 08:30:02|2019-10-24 19:25:01|2019-10-24 02:15:00|2019-10-24 08:39:59|\n",
      "|  yathink3@gmail.com|2019-10-24 08:30:02|2019-10-24 19:25:01|2019-10-24 01:30:00|2019-10-24 09:24:59|\n",
      "|  shelkeva@gmail.com|2019-10-24 08:45:01|2019-10-24 18:25:02|2019-10-24 00:30:00|2019-10-24 09:10:01|\n",
      "|puruissimple@gmai...|2019-10-24 08:50:02|2019-10-24 19:25:01|2019-10-24 03:15:00|2019-10-24 07:19:59|\n",
      "|sangita.awaghad19...|2019-10-24 08:50:01|2019-10-24 19:25:01|2019-10-24 01:55:00|2019-10-24 08:40:00|\n",
      "|vaishusawant143@g...|2019-10-24 08:55:01|2019-10-24 19:25:01|2019-10-24 00:35:00|2019-10-24 09:55:00|\n",
      "|     you@example.com|2019-10-24 08:45:02|2019-10-24 19:25:01|2019-10-24 02:20:00|2019-10-24 08:19:59|\n",
      "|samadhanmahajan73...|2019-10-24 09:00:02|2019-10-24 18:50:01|2019-10-24 01:10:00|2019-10-24 08:39:59|\n",
      "|vishnu23kumar@gma...|2019-10-24 09:00:01|2019-10-24 19:25:01|2019-10-24 04:15:00|2019-10-24 06:10:00|\n",
      "+--------------------+-------------------+-------------------+-------------------+-------------------+\n",
      "only showing top 10 rows\n",
      "\n"
     ]
    }
   ],
   "source": [
    "df_log = sqlContext.read.csv(\"file:///home/hadoopuser/Documents/Pyspark/data/sparklog2019-10-24\",header = True, inferSchema = True)\n",
    "df_log.show(10)"
   ]
  },
  {
   "cell_type": "code",
   "execution_count": 3,
   "metadata": {},
   "outputs": [
    {
     "name": "stdout",
     "output_type": "stream",
     "text": [
      "Rows :  88 Columns :  5\n"
     ]
    }
   ],
   "source": [
    "print('Rows : ',df_log.count(), 'Columns : ',len(df_log.columns))    # total no of row and column"
   ]
  },
  {
   "cell_type": "markdown",
   "metadata": {},
   "source": [
    "### Find total number of hours for each user in working hours "
   ]
  },
  {
   "cell_type": "code",
   "execution_count": 4,
   "metadata": {},
   "outputs": [],
   "source": [
    "df_work_hours = df_log.drop('idle_time', 'start_time', 'end_time')"
   ]
  },
  {
   "cell_type": "code",
   "execution_count": 5,
   "metadata": {},
   "outputs": [
    {
     "name": "stdout",
     "output_type": "stream",
     "text": [
      "+--------------------+-------------------+----------+\n",
      "|           user_name|       working_hour|work_hours|\n",
      "+--------------------+-------------------+----------+\n",
      "|  sahil24c@gmail.com|2019-10-24 05:50:00|         5|\n",
      "|magadum.iranna@gm...|2019-10-24 08:39:59|         8|\n",
      "+--------------------+-------------------+----------+\n",
      "only showing top 2 rows\n",
      "\n"
     ]
    }
   ],
   "source": [
    "df_hours = df_work_hours.withColumn('work_hours', hour(df_log['working_hour']))\n",
    "df_hours.show(2)"
   ]
  },
  {
   "cell_type": "code",
   "execution_count": 6,
   "metadata": {},
   "outputs": [
    {
     "name": "stdout",
     "output_type": "stream",
     "text": [
      "+--------------------+-------------------+----------+-----------+\n",
      "|           user_name|       working_hour|work_hours|hours_inSec|\n",
      "+--------------------+-------------------+----------+-----------+\n",
      "|  sahil24c@gmail.com|2019-10-24 05:50:00|         5|      18000|\n",
      "|magadum.iranna@gm...|2019-10-24 08:39:59|         8|      28800|\n",
      "+--------------------+-------------------+----------+-----------+\n",
      "only showing top 2 rows\n",
      "\n"
     ]
    }
   ],
   "source": [
    "df_hours = df_hours.withColumn('hours_inSec', df_hours['work_hours'] * 3600)\n",
    "df_hours.show(2)"
   ]
  },
  {
   "cell_type": "markdown",
   "metadata": {},
   "source": [
    "### Find total number of mins for each user in working hours"
   ]
  },
  {
   "cell_type": "code",
   "execution_count": 7,
   "metadata": {},
   "outputs": [
    {
     "name": "stdout",
     "output_type": "stream",
     "text": [
      "+--------------------+-------------------+-------+\n",
      "|           user_name|       working_hour|minutes|\n",
      "+--------------------+-------------------+-------+\n",
      "|  sahil24c@gmail.com|2019-10-24 05:50:00|     50|\n",
      "|magadum.iranna@gm...|2019-10-24 08:39:59|     39|\n",
      "+--------------------+-------------------+-------+\n",
      "only showing top 2 rows\n",
      "\n"
     ]
    }
   ],
   "source": [
    "df_mins = df_work_hours.withColumn('minutes', minute(df_work_hours['working_hour']))\n",
    "df_mins.show(2)"
   ]
  },
  {
   "cell_type": "code",
   "execution_count": 8,
   "metadata": {},
   "outputs": [
    {
     "name": "stdout",
     "output_type": "stream",
     "text": [
      "+--------------------+-------------------+-------+----------+\n",
      "|           user_name|       working_hour|minutes|mins_inSec|\n",
      "+--------------------+-------------------+-------+----------+\n",
      "|  sahil24c@gmail.com|2019-10-24 05:50:00|     50|      3000|\n",
      "|magadum.iranna@gm...|2019-10-24 08:39:59|     39|      2340|\n",
      "+--------------------+-------------------+-------+----------+\n",
      "only showing top 2 rows\n",
      "\n"
     ]
    }
   ],
   "source": [
    "df_mins = df_mins.withColumn('mins_inSec', df_mins['minutes'] * 60)\n",
    "df_mins.show(2)"
   ]
  },
  {
   "cell_type": "markdown",
   "metadata": {},
   "source": [
    "### Find total number of sec for each user in working hours"
   ]
  },
  {
   "cell_type": "code",
   "execution_count": 9,
   "metadata": {},
   "outputs": [
    {
     "name": "stdout",
     "output_type": "stream",
     "text": [
      "+--------------------+-------------------+------+\n",
      "|           user_name|       working_hour|second|\n",
      "+--------------------+-------------------+------+\n",
      "|  sahil24c@gmail.com|2019-10-24 05:50:00|     0|\n",
      "|magadum.iranna@gm...|2019-10-24 08:39:59|    59|\n",
      "+--------------------+-------------------+------+\n",
      "only showing top 2 rows\n",
      "\n"
     ]
    }
   ],
   "source": [
    "df_sec = df_work_hours.withColumn('second', second(df_work_hours['working_hour']))\n",
    "df_sec.show(2)"
   ]
  },
  {
   "cell_type": "markdown",
   "metadata": {},
   "source": [
    "### Joining all data frame in one"
   ]
  },
  {
   "cell_type": "code",
   "execution_count": 10,
   "metadata": {},
   "outputs": [
    {
     "name": "stdout",
     "output_type": "stream",
     "text": [
      "+--------------------+-----------+----------+\n",
      "|           user_name|hours_inSec|mins_inSec|\n",
      "+--------------------+-----------+----------+\n",
      "|  sahil24c@gmail.com|      18000|      3000|\n",
      "|magadum.iranna@gm...|      28800|      2340|\n",
      "+--------------------+-----------+----------+\n",
      "only showing top 2 rows\n",
      "\n"
     ]
    }
   ],
   "source": [
    "##Joining the dataframes\n",
    "df_hours_min = df_hours.join(df_mins, on = ['user_name'], how = 'inner')\n",
    "df_hours_min = df_hours_min.drop('working_hour','work_hours','minutes')\n",
    "df_hours_min.show(2)"
   ]
  },
  {
   "cell_type": "code",
   "execution_count": 11,
   "metadata": {},
   "outputs": [
    {
     "name": "stdout",
     "output_type": "stream",
     "text": [
      "+--------------------+-----------+----------+------+\n",
      "|           user_name|hours_inSec|mins_inSec|second|\n",
      "+--------------------+-----------+----------+------+\n",
      "|  sahil24c@gmail.com|      18000|      3000|     0|\n",
      "|magadum.iranna@gm...|      28800|      2340|    59|\n",
      "+--------------------+-----------+----------+------+\n",
      "only showing top 2 rows\n",
      "\n"
     ]
    }
   ],
   "source": [
    "df_h_m_s = df_hours_min.join(df_sec, on = ['user_name'], how = 'inner') \n",
    "df_h_m_s = df_h_m_s.drop('working_hour')\n",
    "df_h_m_s.show(2)"
   ]
  },
  {
   "cell_type": "code",
   "execution_count": 12,
   "metadata": {},
   "outputs": [
    {
     "name": "stdout",
     "output_type": "stream",
     "text": [
      "+--------------------+-----------+----------+------+-----------------+\n",
      "|           user_name|hours_inSec|mins_inSec|second|    working_hours|\n",
      "+--------------------+-----------+----------+------+-----------------+\n",
      "|  sahil24c@gmail.com|      18000|      3000|     0|5.833333333333333|\n",
      "|magadum.iranna@gm...|      28800|      2340|    59| 8.66638888888889|\n",
      "+--------------------+-----------+----------+------+-----------------+\n",
      "only showing top 2 rows\n",
      "\n"
     ]
    }
   ],
   "source": [
    "df_final = df_h_m_s.withColumn('working_hours', (df_h_m_s['hours_inSec'] + df_h_m_s['mins_inSec'] + df_h_m_s['second'])/3600)\n",
    "df_final.show(2)"
   ]
  },
  {
   "cell_type": "markdown",
   "metadata": {},
   "source": [
    "### Calculate average working hours"
   ]
  },
  {
   "cell_type": "code",
   "execution_count": 13,
   "metadata": {},
   "outputs": [
    {
     "name": "stdout",
     "output_type": "stream",
     "text": [
      "+------------------+\n",
      "|avg(working_hours)|\n",
      "+------------------+\n",
      "| 7.404494949494952|\n",
      "+------------------+\n",
      "\n"
     ]
    }
   ],
   "source": [
    "#calculating average hours\n",
    "avg_work_hour = df_final.select(avg('working_hours'))\n",
    "avg_work_hour.show()"
   ]
  },
  {
   "cell_type": "code",
   "execution_count": 14,
   "metadata": {},
   "outputs": [
    {
     "data": {
      "text/plain": [
       "33"
      ]
     },
     "execution_count": 14,
     "metadata": {},
     "output_type": "execute_result"
    }
   ],
   "source": [
    "avg_count = df_final.filter(sql_functions.col(\"working_hours\") < 7.404494949494952)\n",
    "avg_count.count()"
   ]
  },
  {
   "cell_type": "code",
   "execution_count": 15,
   "metadata": {},
   "outputs": [
    {
     "name": "stdout",
     "output_type": "stream",
     "text": [
      "+--------------------+\n",
      "|           user_name|\n",
      "+--------------------+\n",
      "|  sahil24c@gmail.com|\n",
      "|puruissimple@gmai...|\n",
      "|vishnu23kumar@gma...|\n",
      "|sargampandey27oct...|\n",
      "|ayush.saraf47@gma...|\n",
      "|ruchikachile30199...|\n",
      "|“shivnajalisangal...|\n",
      "| addyp1911@gmail.com|\n",
      "|dipakalagate1991@...|\n",
      "|gaikwadr576@gmail...|\n",
      "|tekina.makin@gmai...|\n",
      "|mishrasushil889@g...|\n",
      "| blsonalib@gmail.com|\n",
      "|hakepratiksha55@g...|\n",
      "|vaibhavpratihar17...|\n",
      "|bsaivenkatavikas@...|\n",
      "| youremail@email.com|\n",
      "|polelaxman001@gma...|\n",
      "|er.mukulvij96@gma...|\n",
      "| dileep.bs@yahoo.com|\n",
      "+--------------------+\n",
      "only showing top 20 rows\n",
      "\n"
     ]
    }
   ],
   "source": [
    "df_final.filter(df_final['working_hours'] < 7.404494949494952).select('user_name').show()"
   ]
  },
  {
   "cell_type": "code",
   "execution_count": null,
   "metadata": {},
   "outputs": [],
   "source": []
  }
 ],
 "metadata": {
  "kernelspec": {
   "display_name": "Python 3",
   "language": "python",
   "name": "python3"
  },
  "language_info": {
   "codemirror_mode": {
    "name": "ipython",
    "version": 3
   },
   "file_extension": ".py",
   "mimetype": "text/x-python",
   "name": "python",
   "nbconvert_exporter": "python",
   "pygments_lexer": "ipython3",
   "version": "3.6.9"
  }
 },
 "nbformat": 4,
 "nbformat_minor": 4
}
