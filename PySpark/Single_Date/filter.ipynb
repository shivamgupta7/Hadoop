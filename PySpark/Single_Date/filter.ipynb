{
 "cells": [
  {
   "cell_type": "code",
   "execution_count": 54,
   "metadata": {},
   "outputs": [],
   "source": [
    "import datetime as dt\n",
    "from pyspark.sql import SQLContext, Row\n",
    "import pyspark.sql.functions as F\n",
    "from py4j.protocol import Py4JJavaError"
   ]
  },
  {
   "cell_type": "code",
   "execution_count": 55,
   "metadata": {},
   "outputs": [],
   "source": [
    "usr_log = sqlContext.read.csv(\"hdfs:///user/spark-file/input/CpuLogData2019-10-24.csv\",header = True, inferSchema = True)"
   ]
  },
  {
   "cell_type": "code",
   "execution_count": 56,
   "metadata": {},
   "outputs": [],
   "source": [
    "sel_column = ['DateTime', 'user_name', 'keyboard', 'mouse']\n",
    "usr_log = usr_log.select(*sel_column)\n",
    "usr_log = usr_log[usr_log['DateTime'] >= '2019-10-24 08:30:00']\n",
    "usr_log = usr_log[usr_log['DateTime'] <= '2019-10-24 19:30:00']\n",
    "unique_users = usr_log.toPandas()['user_name'].unique()"
   ]
  },
  {
   "cell_type": "code",
   "execution_count": 64,
   "metadata": {},
   "outputs": [],
   "source": [
    "users_new_data = dict()\n",
    "for user in unique_users:\n",
    "    users_new_data[user] = {\n",
    "        'start_time' : dt.datetime(2019, 10, 24, 0, 0, 0),\n",
    "        'end_time' : dt.datetime(2019, 10, 24, 0, 0, 0),\n",
    "        'idle_time': dt.datetime(2019, 10, 24, 0, 0, 0),\n",
    "        'working_hour' : dt.datetime(2019, 10, 24, 0, 0, 0)\n",
    "    }"
   ]
  },
  {
   "cell_type": "code",
   "execution_count": 59,
   "metadata": {},
   "outputs": [
    {
     "name": "stdout",
     "output_type": "stream",
     "text": [
      "+--------------------+-------------------+\n",
      "|           user_name|         start_time|\n",
      "+--------------------+-------------------+\n",
      "|ashutoshrit64@gma...|2019-10-24 09:00:01|\n",
      "|giridhardandikwar...|2019-10-24 10:40:02|\n",
      "|       nikitapawar17|2019-10-24 11:15:02|\n",
      "|salinabodale73@gm...|2019-10-24 10:15:01|\n",
      "|mail2anik.officia...|2019-10-24 08:30:01|\n",
      "+--------------------+-------------------+\n",
      "only showing top 5 rows\n",
      "\n"
     ]
    }
   ],
   "source": [
    "usr_log = usr_log.sort('DateTime')\n",
    "startTime = usr_log.groupBy(\"user_name\").agg(F.min(\"DateTime\").alias('start_time'))\n",
    "startTime.show(5)"
   ]
  },
  {
   "cell_type": "code",
   "execution_count": 60,
   "metadata": {},
   "outputs": [
    {
     "name": "stdout",
     "output_type": "stream",
     "text": [
      "+--------------------+-------------------+\n",
      "|           user_name|           end_time|\n",
      "+--------------------+-------------------+\n",
      "|ashutoshrit64@gma...|2019-10-24 19:25:02|\n",
      "|giridhardandikwar...|2019-10-24 19:25:02|\n",
      "|       nikitapawar17|2019-10-24 19:25:02|\n",
      "|salinabodale73@gm...|2019-10-24 19:25:01|\n",
      "|mail2anik.officia...|2019-10-24 10:00:01|\n",
      "+--------------------+-------------------+\n",
      "only showing top 5 rows\n",
      "\n"
     ]
    }
   ],
   "source": [
    "endTime = usr_log.groupBy(\"user_name\").agg(F.max(\"DateTime\").alias('end_time'))\n",
    "endTime.show(5)"
   ]
  },
  {
   "cell_type": "code",
   "execution_count": 61,
   "metadata": {},
   "outputs": [],
   "source": [
    "def cal_idle_hour(detail):\n",
    "    global count_idle\n",
    "    if detail.keyboard == 0 and detail.mouse == 0:\n",
    "        count_idle += 1\n",
    "    else:\n",
    "        count_idle = 0\n",
    "    if count_idle >= 5:\n",
    "        if count_idle == 5:\n",
    "            users_new_data[detail.user_name]['idle_time'] \\\n",
    "                = users_new_data[detail.user_name].get('idle_time') \\\n",
    "                     + dt.timedelta(0, 1500)\n",
    "        else:\n",
    "            users_new_data[detail.user_name]['idle_time'] \\\n",
    "                = users_new_data[detail.user_name].get('idle_time') \\\n",
    "                    + dt.timedelta(0, 300)"
   ]
  },
  {
   "cell_type": "code",
   "execution_count": 62,
   "metadata": {},
   "outputs": [
    {
     "name": "stdout",
     "output_type": "stream",
     "text": [
      "Done!\n"
     ]
    }
   ],
   "source": [
    "for user in unique_users:\n",
    "    count_idle = 0\n",
    "    for row in usr_log.rdd.collect():\n",
    "        if user == row.user_name:\n",
    "            cal_idle_hour(row)\n",
    "print('Done!')"
   ]
  },
  {
   "cell_type": "code",
   "execution_count": 66,
   "metadata": {},
   "outputs": [
    {
     "name": "stdout",
     "output_type": "stream",
     "text": [
      "+--------------------+-------------------+\n",
      "|           user_name|          idle_time|\n",
      "+--------------------+-------------------+\n",
      "|  sahil24c@gmail.com|2019-10-24 00:00:00|\n",
      "|magadum.iranna@gm...|2019-10-24 00:00:00|\n",
      "|  yathink3@gmail.com|2019-10-24 00:00:00|\n",
      "+--------------------+-------------------+\n",
      "only showing top 3 rows\n",
      "\n"
     ]
    }
   ],
   "source": [
    "data_as_rows = [Row(**{'user_name': user, **logs}) for user,logs in users_new_data.items()]\n",
    "idleTime = spark.createDataFrame(data_as_rows).select('user_name', 'idle_time')\n",
    "idleTime.show(3)"
   ]
  },
  {
   "cell_type": "code",
   "execution_count": 10,
   "metadata": {},
   "outputs": [
    {
     "name": "stdout",
     "output_type": "stream",
     "text": [
      "root\n",
      " |-- user_name: string (nullable = true)\n",
      " |-- idle_time: timestamp (nullable = true)\n",
      "\n"
     ]
    }
   ],
   "source": [
    "idleTime.printSchema()"
   ]
  },
  {
   "cell_type": "code",
   "execution_count": 11,
   "metadata": {},
   "outputs": [
    {
     "name": "stdout",
     "output_type": "stream",
     "text": [
      "+--------------------+-------------------+-------------------+-------------------+\n",
      "|           user_name|          idle_time|         start_time|           end_time|\n",
      "+--------------------+-------------------+-------------------+-------------------+\n",
      "|prathameshsalap@g...|2019-10-21 01:50:00|2019-10-21 08:35:01|2019-10-21 19:25:02|\n",
      "|vaishusawant143@g...|2019-10-21 01:35:00|2019-10-21 08:35:01|2019-10-21 19:25:02|\n",
      "|     you@example.com|2019-10-21 01:55:00|2019-10-21 08:35:01|2019-10-21 19:25:01|\n",
      "|  shelkeva@gmail.com|2019-10-21 01:00:00|2019-10-21 08:50:02|2019-10-21 19:25:02|\n",
      "|ashutoshrit64@gma...|2019-10-21 00:30:00|2019-10-21 08:50:01|2019-10-21 19:25:02|\n",
      "+--------------------+-------------------+-------------------+-------------------+\n",
      "only showing top 5 rows\n",
      "\n"
     ]
    }
   ],
   "source": [
    "data_df = idleTime.join(startTime, on=['user_name'], how='inner').join(endTime, on=['user_name'], how='inner')\n",
    "data_df.show(5)"
   ]
  },
  {
   "cell_type": "code",
   "execution_count": 12,
   "metadata": {},
   "outputs": [],
   "source": [
    "def cal_working_hours(details):\n",
    "    delta = (dt.datetime(2019, 10, 22, 0, 0, 0) + (details.end_time -details.start_time)) - details.idle_time\n",
    "    users_new_data[details.user_name]['working_hour'] = dt.datetime(2019, 10, 22, 0, 0, 0) + delta\n",
    "    users_new_data[details.user_name]['start_time'] = details.start_time\n",
    "    users_new_data[details.user_name]['end_time'] = details.end_time\n",
    "#     print(users_new_data[details.user_name]['working_hour'])\n",
    "#     print(type(users_new_data[details.user_name]['working_hour']))"
   ]
  },
  {
   "cell_type": "code",
   "execution_count": 13,
   "metadata": {},
   "outputs": [
    {
     "name": "stdout",
     "output_type": "stream",
     "text": [
      "Done!\n"
     ]
    }
   ],
   "source": [
    "for row in data_df.rdd.collect():\n",
    "    cal_working_hours(row)\n",
    "print('Done!')"
   ]
  },
  {
   "cell_type": "code",
   "execution_count": 14,
   "metadata": {},
   "outputs": [
    {
     "name": "stdout",
     "output_type": "stream",
     "text": [
      "+--------------------+-------------------+-------------------+-------------------+-------------------+\n",
      "|           user_name|         start_time|           end_time|          idle_time|       working_hour|\n",
      "+--------------------+-------------------+-------------------+-------------------+-------------------+\n",
      "|prathameshsalap@g...|2019-10-21 08:35:01|2019-10-21 19:25:02|2019-10-21 01:50:00|2019-10-21 09:00:01|\n",
      "|vaishusawant143@g...|2019-10-21 08:35:01|2019-10-21 19:25:02|2019-10-21 01:35:00|2019-10-21 09:15:01|\n",
      "|     you@example.com|2019-10-21 08:35:01|2019-10-21 19:25:01|2019-10-21 01:55:00|2019-10-21 08:55:00|\n",
      "|  shelkeva@gmail.com|2019-10-21 08:50:02|2019-10-21 19:25:02|2019-10-21 01:00:00|2019-10-21 09:35:00|\n",
      "|ashutoshrit64@gma...|2019-10-21 08:50:01|2019-10-21 19:25:02|2019-10-21 00:30:00|2019-10-21 10:05:01|\n",
      "+--------------------+-------------------+-------------------+-------------------+-------------------+\n",
      "only showing top 5 rows\n",
      "\n"
     ]
    }
   ],
   "source": [
    "data_as_rows = [Row(**{'user_name': user, **logs}) for user,logs in users_new_data.items()]\n",
    "data_final = spark.createDataFrame(data_as_rows).select('user_name', 'start_time', 'end_time', 'idle_time', 'working_hour')\n",
    "data_final.show(5)"
   ]
  },
  {
   "cell_type": "code",
   "execution_count": 15,
   "metadata": {},
   "outputs": [],
   "source": [
    "data_final.repartition(1).write.csv('hdfs:///user/spark-file/output/sparklog2019-10-22',header='true')"
   ]
  },
  {
   "cell_type": "code",
   "execution_count": 15,
   "metadata": {},
   "outputs": [],
   "source": [
    "#Save the dataframe to the table. \n",
    "data_final.write.format('jdbc').options(\n",
    "      url='jdbc:mysql://localhost:3306/test',\n",
    "      driver='com.mysql.jdbc.Driver',\n",
    "      dbtable='UserLog',\n",
    "      user='hadoopuser',\n",
    "      password='Gupta@007').mode('append').save()"
   ]
  },
  {
   "cell_type": "code",
   "execution_count": null,
   "metadata": {},
   "outputs": [],
   "source": []
  }
 ],
 "metadata": {
  "kernelspec": {
   "display_name": "Python 3",
   "language": "python",
   "name": "python3"
  },
  "language_info": {
   "codemirror_mode": {
    "name": "ipython",
    "version": 3
   },
   "file_extension": ".py",
   "mimetype": "text/x-python",
   "name": "python",
   "nbconvert_exporter": "python",
   "pygments_lexer": "ipython3",
   "version": "3.6.9"
  }
 },
 "nbformat": 4,
 "nbformat_minor": 4
}
