{
 "cells": [
  {
   "cell_type": "code",
   "execution_count": 1,
   "metadata": {},
   "outputs": [],
   "source": [
    "from pyspark.sql.functions import hour,minute,second,col,avg,when\n",
    "from pyspark.sql import SQLContext\n",
    "import pyspark.sql.functions as sql_functions\n",
    "import datetime\n",
    "sqlContext = SQLContext(sc)"
   ]
  },
  {
   "cell_type": "code",
   "execution_count": 4,
   "metadata": {},
   "outputs": [],
   "source": [
    "df_log_21 = sqlContext.read.csv(\"file:///home/hadoopuser/Documents/Pyspark/data/sparklog2019-10-21\",header = True, inferSchema = True)\n",
    "df_log_22 = sqlContext.read.csv(\"file:///home/hadoopuser/Documents/Pyspark/data/sparklog2019-10-22\",header = True, inferSchema = True)\n",
    "df_log_23 = sqlContext.read.csv(\"file:///home/hadoopuser/Documents/Pyspark/data/sparklog2019-10-23\",header = True, inferSchema = True)\n",
    "df_log_24 = sqlContext.read.csv(\"file:///home/hadoopuser/Documents/Pyspark/data/sparklog2019-10-24\",header = True, inferSchema = True)"
   ]
  },
  {
   "cell_type": "code",
   "execution_count": 14,
   "metadata": {},
   "outputs": [],
   "source": [
    "df_all = df_log_21.union(df_log_22).union(df_log_23).union(df_log_24)"
   ]
  },
  {
   "cell_type": "code",
   "execution_count": 19,
   "metadata": {},
   "outputs": [
    {
     "name": "stdout",
     "output_type": "stream",
     "text": [
      "+--------------------+-------------------+-------------------+-------------------+-------------------+\n",
      "|           user_name|         start_time|           end_time|          idle_time|       working_hour|\n",
      "+--------------------+-------------------+-------------------+-------------------+-------------------+\n",
      "|prathameshsalap@g...|2019-10-21 08:35:01|2019-10-21 19:25:02|2019-10-21 01:50:00|2019-10-21 09:00:01|\n",
      "|vaishusawant143@g...|2019-10-21 08:35:01|2019-10-21 19:25:02|2019-10-21 01:35:00|2019-10-21 09:15:01|\n",
      "|     you@example.com|2019-10-21 08:35:01|2019-10-21 19:25:01|2019-10-21 01:55:00|2019-10-21 08:55:00|\n",
      "|  shelkeva@gmail.com|2019-10-21 08:50:02|2019-10-21 19:25:02|2019-10-21 01:00:00|2019-10-21 09:35:00|\n",
      "|ashutoshrit64@gma...|2019-10-21 08:50:01|2019-10-21 19:25:02|2019-10-21 00:30:00|2019-10-21 10:05:01|\n",
      "|akshaypatwari24@g...|2019-10-21 09:00:01|2019-10-21 19:15:01|2019-10-21 01:30:00|2019-10-21 08:45:00|\n",
      "|sushantpatwari123...|2019-10-21 09:05:01|2019-10-21 19:00:01|2019-10-21 01:50:00|2019-10-21 08:05:00|\n",
      "|mr.kundare@gmail.com|2019-10-21 09:05:01|2019-10-21 19:25:01|2019-10-21 10:15:00|2019-10-21 00:05:00|\n",
      "| ingle0608@gmail.com|2019-10-21 09:00:02|2019-10-21 19:25:01|2019-10-21 10:15:00|2019-10-21 00:09:59|\n",
      "|akshaybavalekar10...|2019-10-21 09:10:01|2019-10-21 19:25:01|2019-10-21 01:30:00|2019-10-21 08:45:00|\n",
      "+--------------------+-------------------+-------------------+-------------------+-------------------+\n",
      "only showing top 10 rows\n",
      "\n"
     ]
    }
   ],
   "source": [
    "df_all.show(10)"
   ]
  },
  {
   "cell_type": "code",
   "execution_count": 20,
   "metadata": {},
   "outputs": [
    {
     "name": "stdout",
     "output_type": "stream",
     "text": [
      "Rows :  307 Columns :  5\n"
     ]
    }
   ],
   "source": [
    "print('Rows : ',df_all.count(), 'Columns : ',len(df_all.columns))    # total no of row and column"
   ]
  },
  {
   "cell_type": "code",
   "execution_count": 21,
   "metadata": {},
   "outputs": [],
   "source": [
    "df_all.repartition(1).write.csv('hdfs:///user/spark-file/output/all',header='true')"
   ]
  },
  {
   "cell_type": "code",
   "execution_count": 22,
   "metadata": {},
   "outputs": [],
   "source": [
    "#Save the dataframe to the table. \n",
    "df_all.write.format('jdbc').options(\n",
    "      url='jdbc:mysql://localhost:3306/test',\n",
    "      driver='com.mysql.jdbc.Driver',\n",
    "      dbtable='UserLog',\n",
    "      user='hadoopuser',\n",
    "      password='Gupta@007').mode('append').save()"
   ]
  },
  {
   "cell_type": "code",
   "execution_count": null,
   "metadata": {},
   "outputs": [],
   "source": []
  }
 ],
 "metadata": {
  "kernelspec": {
   "display_name": "Python 3",
   "language": "python",
   "name": "python3"
  },
  "language_info": {
   "codemirror_mode": {
    "name": "ipython",
    "version": 3
   },
   "file_extension": ".py",
   "mimetype": "text/x-python",
   "name": "python",
   "nbconvert_exporter": "python",
   "pygments_lexer": "ipython3",
   "version": "3.6.9"
  }
 },
 "nbformat": 4,
 "nbformat_minor": 4
}
